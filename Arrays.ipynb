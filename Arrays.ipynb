{
 "cells": [
  {
   "cell_type": "markdown",
   "metadata": {},
   "source": [
    "## **Arrays**"
   ]
  },
  {
   "cell_type": "markdown",
   "metadata": {},
   "source": [
    " Advantages\n",
    " - Store multiple elements of the same type with one single variable name\n",
    " - Accessing elements is fast as long as you have the index, as opposed to linked lists where you have to traverse from the head.\n",
    "\n",
    " Disadvantages\n",
    " - Addition and removal of elements into/from the middle of an array is slow because the remaining elements need to be shifted to accommodate \n",
    " the new/missing element. An exception to this is if the position to be inserted/removed is at the end of the array.\n",
    " - For certain languages where the array size is fixed, it cannot alter its size after initialization. If an insertion causes the \n",
    " total number of elements to exceed the size, a new array has to be allocated and the existing elements have to be copied over. \n",
    " The act of creating a new array and transferring elements over takes O(n) time."
   ]
  },
  {
   "cell_type": "markdown",
   "metadata": {},
   "source": [
    "---"
   ]
  },
  {
   "cell_type": "markdown",
   "metadata": {},
   "source": [
    " # Time complexity \n",
    " \n",
    " | Operation\t       | Big-O           | Note |\n",
    " | ------------|------------------|--------------|\n",
    " | Access\t       | O(1)\t||\n",
    " | Search\t        |O(n)\t||\n",
    " | Search (sorted array)\t|O(log(n))|\t|\n",
    " | Insert\t        |O(n)            | Insertion would require shifting all the subsequent elements to the right by one and that takes O(n)|\n",
    " | Insert (at the end)\t|O(1)\t    | Special case of insertion where no other element needs to be shifted|\n",
    " |Remove\t        |O(n)\t        | Removal would require shifting all the subsequent elements to the left by one and that takes O(n)|\n",
    " | Remove (at the end)\t|O(1)\t    | Special case of removal where no other element needs to be shifted|"
   ]
  },
  {
   "cell_type": "markdown",
   "metadata": {},
   "source": [
    "---\n",
    "## **Python Arrays** "
   ]
  },
  {
   "cell_type": "markdown",
   "metadata": {},
   "source": [
    "## **Basic Operations**\n",
    "\n",
    "| Operation            | Code Example  | Time Complexity |\n",
    "|----------------------|--------------|----------------|\n",
    "| Accessing an element | `arr[i]`      | **O(1)**       |\n",
    "| Getting length       | `len(arr)`    | **O(1)**       |\n",
    "\n",
    "## **Adding Elements**\n",
    "\n",
    "| Operation         | Code Example          | Time Complexity |\n",
    "|------------------|----------------------|----------------|\n",
    "| Append to end    | `arr.append(6)`       | **O(1)** (amortized) |\n",
    "| Insert at index  | `arr.insert(2, 99)`   | **O(n)** |\n",
    "| Extend list      | `arr.extend([7, 8])`  | **O(k)** (where k is the length of added list) |\n",
    "\n",
    "## **Removing Elements**\n",
    "\n",
    "| Operation               | Code Example      | Time Complexity |\n",
    "|-------------------------|------------------|----------------|\n",
    "| Pop last element        | `arr.pop()`       | **O(1)** |\n",
    "| Pop at index            | `arr.pop(2)`      | **O(n)** |\n",
    "| Remove element (search + remove) | `arr.remove(99)` | **O(n)** |\n",
    "| Clear list              | `arr.clear()`     | **O(1)** |\n",
    "\n",
    "## **Accessing & Slicing**\n",
    "\n",
    "| Operation      | Code Example  | Time Complexity |\n",
    "|--------------|--------------|----------------|\n",
    "| Get element  | `arr[i]`      | **O(1)**       |\n",
    "| Slice list   | `arr[1:4]`    | **O(k)** (k = slice size) |\n",
    "| Reverse list | `arr[::-1]`   | **O(n)**       |\n",
    "\n",
    "## **Searching & Counting**\n",
    "\n",
    "| Operation         | Code Example     | Time Complexity |\n",
    "|------------------|-----------------|----------------|\n",
    "| Get index        | `arr.index(3)`   | **O(n)** |\n",
    "| Count occurrences | `arr.count(3)`   | **O(n)** |\n",
    "\n",
    "## **Sorting & Reversing**\n",
    "\n",
    "| Operation     | Code Example  | Time Complexity |\n",
    "|--------------|--------------|----------------|\n",
    "| Sort list    | `arr.sort()`  | **O(n log n)** |\n",
    "| Reverse list | `arr.reverse()` | **O(n)** |\n",
    "\n",
    "## **Copying**\n",
    "\n",
    "| Operation  | Code Example | Time Complexity |\n",
    "|-----------|-------------|----------------|\n",
    "| Copy list | `arr.copy()` | **O(n)** |\n",
    "\n",
    "## **List Comprehension (Transforming Elements)**\n",
    "\n",
    "| Operation            | Code Example           | Time Complexity |\n",
    "|----------------------|-----------------------|----------------|\n",
    "| Squaring elements   | `[x**2 for x in arr]` | **O(n)** |\n",
    "\n",
    "## **Aggregations**\n",
    "\n",
    "| Operation  | Code Example | Time Complexity |\n",
    "|-----------|-------------|----------------|\n",
    "| Sum       | `sum(arr)`  | **O(n)** |\n",
    "| Min       | `min(arr)`  | **O(n)** |\n",
    "| Max       | `max(arr)`  | **O(n)** |\n",
    "\n",
    "## **Joining Lists**\n",
    "\n",
    "| Operation     | Code Example | Time Complexity |\n",
    "|--------------|-------------|----------------|\n",
    "| Concatenation | `arr + arr2` | **O(n + m)** |\n"
   ]
  },
  {
   "cell_type": "markdown",
   "metadata": {},
   "source": [
    "---"
   ]
  },
  {
   "cell_type": "markdown",
   "metadata": {},
   "source": [
    "## **Numpy Arrays** "
   ]
  },
  {
   "cell_type": "markdown",
   "metadata": {},
   "source": [
    "## **Basic Operations**\n",
    "\n",
    "| Operation            | Code Example  | Time Complexity |\n",
    "|----------------------|--------------|----------------|\n",
    "| Accessing an element | `arr[i]`      | **O(1)**       |\n",
    "| Getting shape       | `arr.shape`    | **O(1)**       |\n",
    "| Getting data type   | `arr.dtype`    | **O(1)**       |\n",
    "\n",
    "## **Adding Elements**\n",
    "\n",
    "| Operation         | Code Example          | Time Complexity |\n",
    "|------------------|----------------------|----------------|\n",
    "| Append to end    | `np.append(arr, 6)`   | **O(n)** |\n",
    "| Insert at index  | `np.insert(arr, 2, 99)` | **O(n)** |\n",
    "\n",
    "## **Removing Elements**\n",
    "\n",
    "| Operation               | Code Example      | Time Complexity |\n",
    "|-------------------------|------------------|----------------|\n",
    "| Delete element at index | `np.delete(arr, 2)` | **O(n)** |\n",
    "\n",
    "## **Accessing & Slicing**\n",
    "\n",
    "| Operation      | Code Example  | Time Complexity |\n",
    "|--------------|--------------|----------------|\n",
    "| Get element  | `arr[i]`      | **O(1)**       |\n",
    "| Slice array  | `arr[1:4]`    | **O(1)** (view) |\n",
    "| Reverse array | `arr[::-1]`   | **O(n)**       |\n",
    "\n",
    "## **Searching & Counting**\n",
    "\n",
    "| Operation         | Code Example     | Time Complexity |\n",
    "|------------------|-----------------|----------------|\n",
    "| Get index        | `np.where(arr == 3)`   | **O(n)** |\n",
    "| Count occurrences | `np.count_nonzero(arr == 3)`   | **O(n)** |\n",
    "\n",
    "## **Sorting & Reversing**\n",
    "\n",
    "| Operation     | Code Example  | Time Complexity |\n",
    "|--------------|--------------|----------------|\n",
    "| Sort array   | `np.sort(arr)`  | **O(n log n)** |\n",
    "| Reverse array | `arr[::-1]` | **O(n)** |\n",
    "\n",
    "## **Copying**\n",
    "\n",
    "| Operation  | Code Example | Time Complexity |\n",
    "|-----------|-------------|----------------|\n",
    "| Copy array | `arr.copy()` | **O(n)** |\n",
    "\n",
    "## **Arithmetic Operations (Element-wise)**\n",
    "\n",
    "| Operation            | Code Example           | Time Complexity |\n",
    "|----------------------|-----------------------|----------------|\n",
    "| Addition            | `arr + 2` | **O(n)** |\n",
    "| Multiplication      | `arr * 3` | **O(n)** |\n",
    "| Division           | `arr / 2` | **O(n)** |\n",
    "| Squaring elements   | `arr ** 2` | **O(n)** |\n",
    "\n",
    "## **Aggregations**\n",
    "\n",
    "| Operation  | Code Example | Time Complexity |\n",
    "|-----------|-------------|----------------|\n",
    "| Sum       | `np.sum(arr)`  | **O(n)** |\n",
    "| Min       | `np.min(arr)`  | **O(n)** |\n",
    "| Max       | `np.max(arr)`  | **O(n)** |\n",
    "| Mean      | `np.mean(arr)`  | **O(n)** |\n",
    "| Standard deviation | `np.std(arr)` | **O(n)** |\n",
    "\n",
    "## **Matrix Operations**\n",
    "\n",
    "| Operation     | Code Example | Time Complexity |\n",
    "|--------------|-------------|----------------|\n",
    "| Transpose    | `np.transpose(matrix)` | **O(1)** (view) |\n",
    "| Inverse      | `np.linalg.inv(matrix)` | **O(n³)** |\n",
    "\n",
    "## **Joining Arrays**\n",
    "\n",
    "| Operation     | Code Example | Time Complexity |\n",
    "|--------------|-------------|----------------|\n",
    "| Concatenation | `np.concatenate((arr1, arr2))` | **O(n + m)** |\n"
   ]
  },
  {
   "cell_type": "markdown",
   "metadata": {},
   "source": [
    "---\n",
    "## **Sliding window**"
   ]
  },
  {
   "cell_type": "code",
   "execution_count": 1,
   "metadata": {},
   "outputs": [],
   "source": [
    "def maxSum(arr, k):\n",
    "    # length of the array\n",
    "    n = len(arr)\n",
    "\n",
    "    # n must be greater than k\n",
    "    if n <= k:\n",
    "        print(\"Invalid\")\n",
    "        return -1\n",
    "\n",
    "    # Compute sum of first window of size k\n",
    "    window_sum = sum(arr[:k])\n",
    "\n",
    "    # first sum available\n",
    "    max_sum = window_sum\n",
    "\n",
    "    # Compute the sums of remaining windows by\n",
    "    # removing first element of previous\n",
    "    # window and adding last element of\n",
    "    # the current window.\n",
    "    for i in range(n - k):\n",
    "        window_sum = window_sum - arr[i] + arr[i + k]\n",
    "        max_sum = max(window_sum, max_sum)\n",
    "\n",
    "    return max_sum\n"
   ]
  },
  {
   "cell_type": "code",
   "execution_count": 4,
   "metadata": {},
   "outputs": [
    {
     "name": "stdout",
     "output_type": "stream",
     "text": [
      "20\n"
     ]
    }
   ],
   "source": [
    "arr = [1, 4, 2, 10, 2, 3, 1, 0, 20]\n",
    "k = 2\n",
    "print(maxSum(arr, k))"
   ]
  },
  {
   "cell_type": "markdown",
   "metadata": {},
   "source": [
    "---\n",
    "## **Two Pointer**"
   ]
  },
  {
   "cell_type": "code",
   "execution_count": 30,
   "metadata": {},
   "outputs": [
    {
     "name": "stdout",
     "output_type": "stream",
     "text": [
      "Indices of numbers that sum to 9: [0, 2]\n"
     ]
    }
   ],
   "source": [
    "def twoSum(numbers, target):\n",
    "    \"\"\"\n",
    "    Find two numbers in a sorted array that add up to target\n",
    "    Returns the indices of the two numbers (1-based indexing)\n",
    "    \n",
    "    Args:\n",
    "        numbers (List[int]): Sorted array of integers\n",
    "        target (int): Target sum to find\n",
    "    \n",
    "    Returns:\n",
    "        List[int]: Indices of the two numbers that add up to target\n",
    "    \"\"\"\n",
    "    left = 0\n",
    "    right = len(numbers) - 1\n",
    "    numbers = sorted(numbers)\n",
    "    \n",
    "    while left < right:\n",
    "        current_sum = numbers[left] + numbers[right]\n",
    "        \n",
    "        if current_sum == target:\n",
    "            # Adding 1 since problem typically asks for 1-based indexing\n",
    "            return [left -1, right -1]\n",
    "        elif current_sum < target:\n",
    "            left += 1\n",
    "        else:\n",
    "            right -= 1\n",
    "            \n",
    "    return []  # No solution found\n",
    "\n",
    "# Example usage\n",
    "nums = [2, 7, 11, 15, 16, 17, 1, 3]\n",
    "target = 9\n",
    "result = twoSum(nums, target)\n",
    "print(f\"Indices of numbers that sum to {target}: {result}\")  # Output: [2, 6]"
   ]
  },
  {
   "cell_type": "code",
   "execution_count": 41,
   "metadata": {},
   "outputs": [
    {
     "name": "stdout",
     "output_type": "stream",
     "text": [
      "[(1, 6), (2, 0), (3, 7), (7, 1), (11, 2), (15, 3), (16, 4), (17, 5)]\n",
      "[(1, 6), (2, 0), (3, 7), (7, 1), (11, 2), (15, 3), (16, 4), (17, 5)]\n",
      "[(1, 6), (2, 0), (3, 7), (7, 1), (11, 2), (15, 3), (16, 4), (17, 5)]\n",
      "[(1, 6), (2, 0), (3, 7), (7, 1), (11, 2), (15, 3), (16, 4), (17, 5)]\n",
      "[(1, 6), (2, 0), (3, 7), (7, 1), (11, 2), (15, 3), (16, 4), (17, 5)]\n",
      "[(1, 6), (2, 0), (3, 7), (7, 1), (11, 2), (15, 3), (16, 4), (17, 5)]\n",
      "Indices of numbers that sum to 10: [7, 1]\n"
     ]
    }
   ],
   "source": [
    "def twoSum(nums, target): \n",
    "    nums_with_index = [(num,i) for i,num in enumerate(nums)]\n",
    "    nums_with_index.sort()\n",
    "    left,right = 0,len(nums)-1\n",
    "    while left < right:\n",
    "        if nums_with_index[left][0] + nums_with_index[right][0] == target:\n",
    "            return [nums_with_index[left][1],nums_with_index[right][1]]\n",
    "        elif nums_with_index[left][0] + nums_with_index[right][0] < target:\n",
    "            print(nums_with_index)\n",
    "            left +=1\n",
    "        else:\n",
    "            print(nums_with_index)\n",
    "            right -=1\n",
    "    return []\n",
    "\n",
    "# Example usage\n",
    "nums = [2, 7, 11, 15, 16, 17, 1, 3]\n",
    "target = 10\n",
    "result = twoSum(nums, target)\n",
    "print(f\"Indices of numbers that sum to {target}: {result}\")  # Output: [1, 3]"
   ]
  },
  {
   "cell_type": "markdown",
   "metadata": {},
   "source": [
    "\n",
    "\n",
    "This code sorts the `nums` array before passing it to the `twoSum` function. Note that the indices returned will correspond to the sorted array, not the original array. If you need the indices from the original array, you will need to adjust the function to account for the original indices."
   ]
  }
 ],
 "metadata": {
  "kernelspec": {
   "display_name": "Python 3",
   "language": "python",
   "name": "python3"
  },
  "language_info": {
   "codemirror_mode": {
    "name": "ipython",
    "version": 3
   },
   "file_extension": ".py",
   "mimetype": "text/x-python",
   "name": "python",
   "nbconvert_exporter": "python",
   "pygments_lexer": "ipython3",
   "version": "3.11.2"
  }
 },
 "nbformat": 4,
 "nbformat_minor": 2
}
